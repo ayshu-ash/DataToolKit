{
  "nbformat": 4,
  "nbformat_minor": 0,
  "metadata": {
    "colab": {
      "provenance": []
    },
    "kernelspec": {
      "name": "python3",
      "display_name": "Python 3"
    },
    "language_info": {
      "name": "python"
    }
  },
  "cells": [
    {
      "cell_type": "markdown",
      "source": [
        "# **Data Toolkit**"
      ],
      "metadata": {
        "id": "k7YoQ9_2AZiU"
      }
    },
    {
      "cell_type": "markdown",
      "source": [
        "1) What is NumPy, and why is it widely used in Python?\n",
        "   - NumPy\n",
        "\n",
        "     * NumPy stands for Numerical Python.\n",
        "\n",
        "     * It is a Python library used for working with numbers, arrays, and mathematical operations.\n",
        "\n",
        "    Why it is widely used:\n",
        "\n",
        "     * Efficient arrays:- Provides powerful ndarray (n-dimensional arrays) which are faster and more memory-efficient than Python lists.\n",
        "\n",
        "     * Mathematical functions:- Has built-in functions for math (mean, sum, sqrt, etc.).\n",
        "\n",
        "     * Data handling:- Helps in handling large datasets easily.\n",
        "\n",
        "     * Integration:- Works well with other libraries like Pandas, Matplotlib, Scikit-learn, TensorFlow.\n",
        "\n",
        "     * Speed:- Performs operations much faster than normal Python loops.\n",
        "\n",
        "-----------------\n",
        "\n",
        "2) How does broadcasting work in NumPy?\n",
        "   - Broadcasting in NumPy\n",
        "\n",
        "      Broadcasting is a way NumPy automatically expands the smaller array to match the shape of the larger array so that element-wise operations can be done without writing loops.\n",
        "\n",
        "    Rules of Broadcasting:\n",
        "\n",
        "     * If two arrays have different shapes, NumPy compares them from right to left.\n",
        "\n",
        "     * Two dimensions are compatible if:\n",
        "\n",
        "        - They are equal, or\n",
        "\n",
        "        - One of them is 1.\n",
        "\n",
        "     * If they are not compatible, NumPy throws an error.\n",
        "\n",
        "              Example:\n",
        "              import numpy as np\n",
        "              a = np.array([1, 2, 3])   # Shape (3,)\n",
        "              b = 2                     # Shape ()\n",
        "              result = a + b\n",
        "              print(result)\n",
        "\n",
        "              #Output: [3 4 5]\n",
        "\n",
        "     Explanation: b is a scalar (single value). NumPy expands it to match the shape of a.\n",
        "\n",
        "--------------------\n",
        "\n",
        "3) What is a Pandas DataFrame?\n",
        "   - Pandas DataFrame:\n",
        "\n",
        "     * A DataFrame is a 2-dimensional data structure in Python provided by the Pandas library.\n",
        "\n",
        "     * It looks like a table with rows and columns (similar to Excel or SQL tables).\n",
        "\n",
        "     * Each column can hold different data types (e.g., numbers, strings, floats).\n",
        "\n",
        "     * It is widely used for data analysis, cleaning, and manipulation.\n",
        "\n",
        "     * Provides many built-in functions like filtering, grouping, merging, and statistical analysis.\n",
        "\n",
        "------------------------\n",
        "\n",
        "4) Explain the use of the groupby() method in Pandas?\n",
        "   - The groupby() method in Pandas is used to split data into groups based on some condition, apply a function (like sum, mean, count, etc.), and then combine the results.\n",
        "\n",
        "    How it works (Split–Apply–Combine):\n",
        "\n",
        "    * Split → Data is divided into groups based on one or more keys (columns).\n",
        "\n",
        "    * Apply → A function is applied to each group (e.g., sum, mean, max, count).\n",
        "\n",
        "    * Combine → Results are merged back into a DataFrame or Series.\n",
        "\n",
        "               Example:\n",
        "               import pandas as pd  \n",
        "               data = {\n",
        "                 'Department': ['IT', 'IT', 'HR', 'HR', 'Finance'],\n",
        "                 'Employee': ['A', 'B', 'C', 'D', 'E'],\n",
        "                 'Salary': [50000, 60000, 45000, 55000, 70000]\n",
        "               }\n",
        "               df = pd.DataFrame(data)\n",
        "\n",
        "               # Group by Department and find average salary\n",
        "               result = df.groupby('Department')['Salary'].mean()\n",
        "               print(result)\n",
        "\n",
        "               #Output:\n",
        "               Department\n",
        "               Finance    70000.0\n",
        "               HR         50000.0\n",
        "               IT         55000.0\n",
        "               Name: Salary, dtype: float64\n",
        "\n",
        "---------------------------\n",
        "\n",
        "5) Why is Seaborn preferred for statistical visualizations?\n",
        "   - The reason why Seaborn preferred for statistical visualizations is:\n",
        "   \n",
        "     * High-level interface:- Seaborn makes complex plots simple with less code compared to Matplotlib.\n",
        "\n",
        "     * Beautiful default styles:- It gives attractive and professional-looking charts by default.\n",
        "\n",
        "     * Statistical support:- Built-in functions for regression plots, distribution plots, heatmaps, etc.\n",
        "\n",
        "     * Integration with Pandas:- Works smoothly with Pandas DataFrames.\n",
        "\n",
        "     * Less effort, more insight:- Provides ready-to-use visualization for statistical analysis.\n",
        "\n",
        "-------------------------\n",
        "\n",
        "6) What are the differences between NumPy arrays and Python lists?\n",
        "   - Differences between NumPy arrays and Python lists are:\n",
        "\n",
        "    i)Storage\n",
        "\n",
        "     * NumPy arrays store data in contiguous memory (efficient).\n",
        "\n",
        "     * Lists store elements as separate objects (less efficient).\n",
        "\n",
        "    ii) Data type\n",
        "\n",
        "     * NumPy arrays: all elements must be of the same data type.\n",
        "\n",
        "     * Lists: can store different data types in one list.\n",
        "\n",
        "    iii) Performance\n",
        "\n",
        "     * NumPy arrays are faster due to optimized C-based implementation.\n",
        "\n",
        "     * Lists are slower in numerical computations.\n",
        "\n",
        "    iv) Size\n",
        "\n",
        "     * NumPy arrays have fixed size once created.\n",
        "\n",
        "     * Lists can grow or shrink dynamically.\n",
        "\n",
        "     v) Operations\n",
        "\n",
        "     * NumPy supports vectorized operations (e.g., arr1 + arr2).\n",
        "\n",
        "     * Lists require loops for element-wise operations.\n",
        "\n",
        "     vi) Memory usage\n",
        "\n",
        "     * NumPy arrays use less memory.\n",
        "\n",
        "     * Lists use more memory because of Python object overhead.\n",
        "\n",
        "----------------------\n",
        "\n",
        "7) What is a heatmap, and when should it be used?\n",
        "  - Heatmap:\n",
        "\n",
        "    * A heatmap is a data visualization technique that shows values in a matrix or 2D table format, where individual values are represented using colors instead of numbers.\n",
        "\n",
        "    * It helps identify patterns, correlations, and intensity in data quickly.\n",
        "\n",
        "     When should it be used?\n",
        "\n",
        "      * When you want to visualize correlations between variables (e.g., correlation matrix in statistics).\n",
        "\n",
        "      * To analyze large datasets and identify patterns at a glance.\n",
        "\n",
        "      * To represent intensity or frequency of values in a dataset (e.g., website clicks, customer activity).\n",
        "\n",
        "      * When showing comparisons across categories in a 2D format.\n",
        "\n",
        "-------------------------\n",
        "\n",
        "8) What does the term “vectorized operation” mean in NumPy?\n",
        "   - Vectorized operation in NumPy means performing operations on entire arrays (vectors, matrices) at once instead of looping through elements one by one.\n",
        "\n",
        "     How it works: NumPy uses optimized C code internally, so operations are applied to all elements simultaneously.\n",
        "\n",
        "             Examples:\n",
        "             import numpy as np\n",
        "             a = np.array([1, 2, 3])\n",
        "             b = np.array([4, 5, 6])\n",
        "             print(a + b)   # [5, 7, 9]  → vectorized addition\n",
        "\n",
        "--------------------------\n",
        "\n",
        "9) How does Matplotlib differ from Plotly?\n",
        "   - Differences:\n",
        "\n",
        "    i) Type of Library\n",
        "\n",
        "     * Matplotlib: A static plotting library (traditional, 2D/3D plotting).\n",
        "\n",
        "     * Plotly: An interactive plotting library (supports zooming, hovering, tooltips).\n",
        "\n",
        "    ii) Interactivity\n",
        "\n",
        "     * Matplotlib: Mainly produces static, publication-style graphs.\n",
        "\n",
        "     * Plotly: Provides interactive visualizations suitable for dashboards and web apps.\n",
        "\n",
        "    iii) Ease of Use\n",
        "\n",
        "     * Matplotlib: More coding effort required, low-level customization.\n",
        "\n",
        "     * Plotly: Higher-level, simpler functions for quick interactive graphs.\n",
        "\n",
        "     iv) Visualization Types\n",
        "\n",
        "     * Matplotlib: Good for basic plots (line, bar, scatter, histograms).\n",
        "\n",
        "     * Plotly: Supports advanced plots like 3D, heatmaps, maps, animations, etc.\n",
        "\n",
        "     v) Output\n",
        "\n",
        "     * Matplotlib: Outputs static images (PNG, PDF, etc.).\n",
        "\n",
        "     * Plotly: Outputs interactive HTML visualizations (great for web).\n",
        "\n",
        " --------------------\n",
        "\n",
        "10) What is the significance of hierarchical indexing in Pandas?\n",
        "   - Hierarchical indexing in Pandas means having multiple levels of indexes (row or column labels).\n",
        "\n",
        "       Significance:\n",
        "\n",
        "    * Multi-level data representation:- Helps represent data in 2D even if it’s higher-dimensional.\n",
        "\n",
        "    * Easy subsetting:- Allows accessing data using multiple keys.\n",
        "\n",
        "    * Group-wise operations:- Useful for grouping and analyzing complex datasets.\n",
        "\n",
        "    * Better organization:- Makes large datasets more structured and readable.\n",
        "\n",
        "    * Flexible reshaping:- Supports operations like stack/unstack, pivot tables, etc.\n",
        "\n",
        "------------------------\n",
        "\n",
        "11) What is the role of Seaborn's pairplot() function?\n",
        "   - The pairplot() function in Seaborn creates a matrix of scatterplots between multiple numerical variables.\n",
        "\n",
        "     It helps to visualize relationships between pairs of features and also shows distributions of individual variables (on the diagonal using histograms or KDE).\n",
        "\n",
        "     Useful for exploratory data analysis (EDA) to quickly identify correlations, clusters, or outliers.\n",
        "\n",
        "    When to use:\n",
        "\n",
        "    * When you want to see all pairwise relationships between columns in a dataset (e.g., Iris dataset).\n",
        "\n",
        "    * For datasets with a few numeric variables (too many variables → the plot becomes cluttered).\n",
        "\n",
        "------------------\n",
        "\n",
        "12) What is the purpose of the describe() function in Pandas?\n",
        "  - The describe() function in Pandas provides summary statistics of numerical columns in a DataFrame.\n",
        "\n",
        "    It helps quickly understand the distribution, central tendency, and spread of data.\n",
        "\n",
        "    What it shows:\n",
        "\n",
        "     * Count → Number of non-null values.\n",
        "\n",
        "     * Mean → Average of the values.\n",
        "\n",
        "     * Std → Standard deviation (spread of data).\n",
        "\n",
        "     * Min & Max → Minimum and maximum values.\n",
        "\n",
        "     * 25%, 50%, 75% → Quartiles (helps understand data distribution).\n",
        "\n",
        "-----------------------\n",
        "\n",
        "13) Why is handling missing data important in Pandas?\n",
        "  - Handling missing data is important because:\n",
        "\n",
        "    * Prevents errors:- Many functions and calculations fail or give wrong results if missing values (NaN) are present.\n",
        "\n",
        "    * Improves accuracy:- Statistical analyses, machine learning models, and visualizations need complete data for correct results.\n",
        "\n",
        "    * Data consistency:- Ensures datasets are clean and reliable for decision-making.\n",
        "\n",
        "    * Better insights:- Helps in identifying patterns or anomalies caused by missing values.\n",
        "\n",
        "    * Avoids bias:- Ignoring missing data without handling can lead to incorrect interpretations.\n",
        "\n",
        "    Common methods in Pandas:\n",
        "\n",
        "     i) dropna() → Remove rows/columns with missing data.\n",
        "\n",
        "     ii) fillna() → Replace missing values with a specific value or method (mean, median, mode).\n",
        "\n",
        "-------------------------------\n",
        "\n",
        "14) What are the benefits of using Plotly for data visualization?\n",
        "  - Plotly is a Python library for interactive data visualizations. Its benefits include:\n",
        "\n",
        "    i) Interactivity – Allows zooming, hovering, panning, and tooltips, making plots more dynamic.\n",
        "\n",
        "    ii) High-quality visualizations – Produces visually appealing, professional plots suitable for presentations and dashboards.\n",
        "\n",
        "    iii) Supports multiple chart types – 3D plots, scatter plots, line charts, bar charts, pie charts, maps, and more.\n",
        "\n",
        "    iv) Web-friendly – Outputs interactive HTML files that can be shared or embedded in web apps.\n",
        "\n",
        "    v) Integration with Python libraries – Works well with Pandas, NumPy, and Jupyter Notebooks.\n",
        "\n",
        "    vi)Ease of use – High-level functions allow creating complex plots with minimal code.\n",
        "\n",
        "--------------------------\n",
        "\n",
        "15) How does NumPy handle multidimensional arrays?\n",
        "  - i) NumPy handles multidimensional arrays using the ndarray object, which can have 1D, 2D, 3D, or n-dimensional arrays.\n",
        "\n",
        "    ii) Elements are stored in contiguous memory, making access and operations fast and efficient.\n",
        "\n",
        "    iii) Each array has a shape (tuple of dimensions) and can be indexed using multiple indices:\n",
        "\n",
        "          import numpy as np\n",
        "          arr = np.array([[1,2,3],[4,5,6]])  # 2D array\n",
        "          print(arr[0,1])  # Access element in row 0, column 1 → 2\n",
        "\n",
        "    iv) Operations like addition, multiplication, and statistical functions can be applied element-wise without explicit loops.\n",
        "\n",
        "    v) Arrays can be reshaped using reshape(), flatten(), or ravel() to change dimensions.\n",
        "\n",
        "-----------------\n",
        "\n",
        "16) What is the role of Bokeh in data visualization?\n",
        "  - Bokeh is a Python library used for creating interactive and web-friendly visualizations.\n",
        "\n",
        "    Role/Importance:\n",
        "\n",
        "     * Interactive plots:- Users can zoom, pan, hover, and select data points.\n",
        "\n",
        "     * Web integration:- Generates HTML/JS plots that can be embedded in websites or dashboards.\n",
        "\n",
        "     * Large datasets:- Can handle streaming and real-time data efficiently.\n",
        "\n",
        "     * Customizable visualizations:- Offers high flexibility in styling, colors, and layouts.\n",
        "\n",
        "     * Works with Pandas and NumPy:- Easy to visualize data from these libraries.\n",
        "\n",
        "-----------------------\n",
        "\n",
        "17) Explain the difference between apply() and map() in Pandas?\n",
        "  - The difference between apply() and map() in Pandas are:\n",
        "\n",
        "    i) Usage:\n",
        "\n",
        "    * map() is used only on a Series.\n",
        "\n",
        "    * apply() can be used on both Series and DataFrames.\n",
        "\n",
        "    ii) Function application:\n",
        "\n",
        "    * map() applies a function element-wise on each item of a Series.\n",
        "\n",
        "    * apply() applies a function along rows or columns in a DataFrame, or element-wise on a Series.\n",
        "\n",
        "    iii) Flexibility:\n",
        "\n",
        "    * map() is simpler and used for straightforward transformations.\n",
        "\n",
        "    * apply() is more flexible, suitable for complex operations.\n",
        "\n",
        "    iv) Return type:\n",
        "\n",
        "    * map() returns a Series.\n",
        "\n",
        "    * apply() can return a Series or DataFrame depending on the function and axis.\n",
        "\n",
        "------------------\n",
        "\n",
        "18) What are some advanced features of NumPy?\n",
        "  - Advanced Features of NumPy:\n",
        "\n",
        "    * Multidimensional arrays (ndarray): Efficient handling of 1D, 2D, 3D, or higher-dimensional arrays.\n",
        "\n",
        "    * Vectorized operations: Perform element-wise operations without explicit loops, making calculations faster.\n",
        "\n",
        "    * Broadcasting: Allows operations on arrays of different shapes efficiently.\n",
        "\n",
        "    * Linear algebra functions: Built-in support for matrix multiplication, determinants, eigenvalues, etc.\n",
        "\n",
        "    * Random number generation: Easy creation of random numbers and arrays for simulations.\n",
        "\n",
        "    * Fourier transforms & signal processing: Supports complex mathematical operations on arrays.\n",
        "\n",
        "    * Masked arrays: Handle missing or invalid data efficiently.\n",
        "\n",
        "    * Integration with C/C++ and Fortran: Can interface with low-level code for performance-critical tasks.\n",
        "\n",
        "------------------------\n",
        "\n",
        "19) How does Pandas simplify time series analysis?\n",
        "  - i) DateTime support:- Pandas has datetime objects and functions to easily parse, manipulate, and filter dates.\n",
        "\n",
        "    ii) Indexing and slicing:- You can set a DatetimeIndex for a DataFrame and quickly select data for specific dates, months, or periods.\n",
        "\n",
        "    iii) Resampling:- Easily aggregate data to different frequencies (e.g., daily → monthly) using resample().\n",
        "\n",
        "    iv) Shifting and lagging:- Built-in methods to compute differences, rolling averages, or moving windows.\n",
        "\n",
        "    v) Handling missing time data:- Pandas can fill, interpolate, or drop missing values in time series datasets.\n",
        "\n",
        "    vi) Integration with plotting libraries:- Works seamlessly with Matplotlib or Seaborn for time series visualizations.\n",
        "\n",
        "-------------------\n",
        "\n",
        "20) What is the role of a pivot table in Pandas?\n",
        "  - Role of a Pivot Table in Pandas:\n",
        "\n",
        "    i) Summarizes data:- Pivot tables help aggregate and summarize large datasets quickly.\n",
        "\n",
        "    ii) Flexible grouping:- You can group data by one or more columns and calculate statistics like sum, mean, count, etc.\n",
        "\n",
        "    iii) Data reshaping:- Converts data from long format to wide format for easier analysis.\n",
        "\n",
        "    iv) Easy comparisons:- Helps compare metrics across categories, like total sales per region per month.\n",
        "\n",
        "    v) Supports multiple aggregation functions:- You can use sum, mean, max, min or custom functions on grouped data.\n",
        "\n",
        "------------------\n",
        "\n",
        "21) Why is NumPy's array slicing faster than Python's list slicing?\n",
        "  - i) Contiguous memory storage:- NumPy arrays store elements in continuous memory blocks, whereas Python lists store references to objects scattered in memory.\n",
        "\n",
        "    ii) Vectorized operations:- Slicing in NumPy doesn’t copy data by default; it creates a view, allowing fast operations on subsets of data.\n",
        "\n",
        "    iii) Low-level implementation:- NumPy is implemented in C, making slicing and operations much faster than Python’s interpreted list operations.\n",
        "\n",
        "    iv) Efficient data types:- NumPy arrays have fixed data types, reducing overhead, while Python lists can contain mixed types, which slows down operations.\n",
        "\n",
        "-----------------------------\n",
        "\n",
        "22) What are some common use cases for Seaborn?used in Python?\n",
        "  - Common Use Cases for Seaborn\n",
        "\n",
        "    i) Exploratory Data Analysis (EDA):- Quickly visualize distributions, correlations, and relationships in datasets.\n",
        "\n",
        "    ii) Statistical visualizations:- Plots like boxplot, violin plot, swarm plot help summarize and compare data statistically.\n",
        "\n",
        "    iii) Correlation analysis:- Use heatmaps to show correlations between numerical features.\n",
        "\n",
        "    iv) Categorical data visualization:- Easily compare categories with countplots, barplots, or pointplots.\n",
        "\n",
        "    v) Multivariate analysis:- Use pairplot or jointplot to visualize relationships between multiple variables.\n",
        "\n",
        "    vi) Time series visualization:- Visualize trends over time with lineplots while grouping by categories."
      ],
      "metadata": {
        "id": "iWSz23KVAcjK"
      }
    },
    {
      "cell_type": "markdown",
      "source": [
        "# **Practical**\n"
      ],
      "metadata": {
        "id": "SjbqT85FBwkg"
      }
    },
    {
      "cell_type": "code",
      "source": [
        "#1. How do you create a 2D NumPy array and calculate the sum of each row\n",
        "import numpy as np\n",
        "arr = np.array([[1, 2, 3],\n",
        "                [4, 5, 6],\n",
        "                [7, 8, 9]])\n",
        "row_sums = arr.sum(axis=1)\n",
        "print(\"2D Array:\")\n",
        "print(arr)\n",
        "print(\"\\nSum of each row:\")\n",
        "print(row_sums)"
      ],
      "metadata": {
        "colab": {
          "base_uri": "https://localhost:8080/"
        },
        "id": "ZXw4DA-SBwUN",
        "outputId": "392fa2d8-c3a7-4832-afb0-07bf6b33b671"
      },
      "execution_count": 18,
      "outputs": [
        {
          "output_type": "stream",
          "name": "stdout",
          "text": [
            "2D Array:\n",
            "[[1 2 3]\n",
            " [4 5 6]\n",
            " [7 8 9]]\n",
            "\n",
            "Sum of each row:\n",
            "[ 6 15 24]\n"
          ]
        }
      ]
    },
    {
      "cell_type": "code",
      "source": [
        "#2. Write a Pandas script to find the mean of a specific column in a DataFrame.\n",
        "import pandas as pd\n",
        "data = {\n",
        "    'Name': ['Alice', 'Bob', 'Charlie', 'David'],\n",
        "    'Marks': [85, 90, 78, 92],\n",
        "    'Age': [20, 21, 19, 22]\n",
        "}\n",
        "df = pd.DataFrame(data)\n",
        "mean_marks = df['Marks'].mean()\n",
        "print(\"DataFrame:\")\n",
        "print(df)\n",
        "print(\"\\nMean of 'Marks' column:\", mean_marks)"
      ],
      "metadata": {
        "colab": {
          "base_uri": "https://localhost:8080/"
        },
        "id": "F3SZ8RUhBwQx",
        "outputId": "02437317-b7a9-460f-8670-79c6de4bdd12"
      },
      "execution_count": 2,
      "outputs": [
        {
          "output_type": "stream",
          "name": "stdout",
          "text": [
            "DataFrame:\n",
            "      Name  Marks  Age\n",
            "0    Alice     85   20\n",
            "1      Bob     90   21\n",
            "2  Charlie     78   19\n",
            "3    David     92   22\n",
            "\n",
            "Mean of 'Marks' column: 86.25\n"
          ]
        }
      ]
    },
    {
      "cell_type": "code",
      "source": [
        "#3. Create a scatter plot using Matplotlib.\n",
        "import matplotlib.pyplot as plt\n",
        "x = [1, 2, 3, 4, 5]\n",
        "y = [10, 15, 13, 17, 20]\n",
        "plt.scatter(x, y, color='blue', marker='o')\n",
        "plt.title(\"Sample Scatter Plot\")\n",
        "plt.xlabel(\"X-axis\")\n",
        "plt.ylabel(\"Y-axis\")\n",
        "plt.show()"
      ],
      "metadata": {
        "colab": {
          "base_uri": "https://localhost:8080/",
          "height": 472
        },
        "id": "Ysj91JXlBwOK",
        "outputId": "8d208fd5-ac83-4da1-d305-fd571e242595"
      },
      "execution_count": 3,
      "outputs": [
        {
          "output_type": "display_data",
          "data": {
            "text/plain": [
              "<Figure size 640x480 with 1 Axes>"
            ],
            "image/png": "[encoded data removed]"
          },
          "metadata": {}
        }
      ]
    },
    {
      "cell_type": "code",
      "source": [
        "#4. How do you calculate the correlation matrix using Seaborn and visualize it with a heatmap.\n",
        "import pandas as pd\n",
        "import seaborn as sns\n",
        "import matplotlib.pyplot as plt\n",
        "data = {\n",
        "    'Math': [85, 90, 78, 92, 88],\n",
        "    'Physics': [80, 85, 75, 90, 82],\n",
        "    'Chemistry': [78, 88, 74, 91, 85]\n",
        "}\n",
        "df = pd.DataFrame(data)\n",
        "corr_matrix = df.corr()\n",
        "sns.heatmap(corr_matrix, annot=True, cmap='coolwarm')\n",
        "plt.title(\"Correlation Heatmap\")\n",
        "plt.show()\n"
      ],
      "metadata": {
        "colab": {
          "base_uri": "https://localhost:8080/",
          "height": 452
        },
        "id": "a1VyL6OKBwLi",
        "outputId": "0291a994-00e0-4c7a-b9e0-abdae627b493"
      },
      "execution_count": 5,
      "outputs": [
        {
          "output_type": "display_data",
          "data": {
            "text/plain": [
              "<Figure size 640x480 with 2 Axes>"
            ],
            "image/png": "[encoded data removed]"
          },
          "metadata": {}
        }
      ]
    },
    {
      "cell_type": "code",
      "source": [
        "#5. Generate a bar plot using Plotly.\n",
        "import plotly.express as px\n",
        "data = {\n",
        "    \"Fruits\": [\"Apple\", \"Banana\", \"Orange\", \"Mango\", \"Grapes\"],\n",
        "    \"Quantity\": [10, 15, 7, 20, 12]\n",
        "}\n",
        "fig = px.bar(data, x=\"Fruits\", y=\"Quantity\", title=\"Fruit Quantity Bar Plot\")\n",
        "fig.show()"
      ],
      "metadata": {
        "colab": {
          "base_uri": "https://localhost:8080/",
          "height": 542
        },
        "id": "ILFDdrRnBwIr",
        "outputId": "4de6e01a-709e-4fd4-f6e0-b89dbeefc6ad"
      },
      "execution_count": 6,
      "outputs": [
        {
          "output_type": "display_data",
          "data": {
            "text/html": [
              "<html>\n",
              "<head><meta charset=\"utf-8\" /></head>\n",
              "<body>\n",
              "    <div>            <script src=\"https://cdnjs.cloudflare.com/ajax/libs/mathjax/2.7.5/MathJax.js?config=TeX-AMS-MML_SVG\"></script><script type=\"text/javascript\">if (window.MathJax && window.MathJax.Hub && window.MathJax.Hub.Config) {window.MathJax.Hub.Config({SVG: {font: \"STIX-Web\"}});}</script>                <script type=\"text/javascript\">window.PlotlyConfig = {MathJaxConfig: 'local'};</script>\n",
              "        <script charset=\"utf-8\" src=\"https://cdn.plot.ly/plotly-2.35.2.min.js\"></script>                <div id=\"6f2f6649-52a5-4f45-8ef7-9a66cd3b678c\" class=\"plotly-graph-div\" style=\"height:525px; width:100%;\"></div>            <script type=\"text/javascript\">                                    window.PLOTLYENV=window.PLOTLYENV || {};                                    if (document.getElementById(\"6f2f6649-52a5-4f45-8ef7-9a66cd3b678c\")) {                    Plotly.newPlot(                        \"6f2f6649-52a5-4f45-8ef7-9a66cd3b678c\",                        [{\"alignmentgroup\":\"True\",\"hovertemplate\":\"Fruits=%{x}\\u003cbr\\u003eQuantity=%{y}\\u003cextra\\u003e\\u003c\\u002fextra\\u003e\",\"legendgroup\":\"\",\"marker\":{\"color\":\"#636efa\",\"pattern\":{\"shape\":\"\"}},\"name\":\"\",\"offsetgroup\":\"\",\"orientation\":\"v\",\"showlegend\":false,\"textposition\":\"auto\",\"x\":[\"Apple\",\"Banana\",\"Orange\",\"Mango\",\"Grapes\"],\"xaxis\":\"x\",\"y\":[10,15,7,20,12],\"yaxis\":\"y\",\"type\":\"bar\"}],                        {\"template\":{\"data\":{\"histogram2dcontour\":[{\"type\":\"histogram2dcontour\",\"colorbar\":{\"outlinewidth\":0,\"ticks\":\"\"},\"colorscale\":[[0.0,\"#0d0887\"],[0.1111111111111111,\"#46039f\"],[0.2222222222222222,\"#7201a8\"],[0.3333333333333333,\"#9c179e\"],[0.4444444444444444,\"#bd3786\"],[0.5555555555555556,\"#d8576b\"],[0.6666666666666666,\"#ed7953\"],[0.7777777777777778,\"#fb9f3a\"],[0.8888888888888888,\"#fdca26\"],[1.0,\"#f0f921\"]]}],\"choropleth\":[{\"type\":\"choropleth\",\"colorbar\":{\"outlinewidth\":0,\"ticks\":\"\"}}],\"histogram2d\":[{\"type\":\"histogram2d\",\"colorbar\":{\"outlinewidth\":0,\"ticks\":\"\"},\"colorscale\":[[0.0,\"#0d0887\"],[0.1111111111111111,\"#46039f\"],[0.2222222222222222,\"#7201a8\"],[0.3333333333333333,\"#9c179e\"],[0.4444444444444444,\"#bd3786\"],[0.5555555555555556,\"#d8576b\"],[0.6666666666666666,\"#ed7953\"],[0.7777777777777778,\"#fb9f3a\"],[0.8888888888888888,\"#fdca26\"],[1.0,\"#f0f921\"]]}],\"heatmap\":[{\"type\":\"heatmap\",\"colorbar\":{\"outlinewidth\":0,\"ticks\":\"\"},\"colorscale\":[[0.0,\"#0d0887\"],[0.1111111111111111,\"#46039f\"],[0.2222222222222222,\"#7201a8\"],[0.3333333333333333,\"#9c179e\"],[0.4444444444444444,\"#bd3786\"],[0.5555555555555556,\"#d8576b\"],[0.6666666666666666,\"#ed7953\"],[0.7777777777777778,\"#fb9f3a\"],[0.8888888888888888,\"#fdca26\"],[1.0,\"#f0f921\"]]}],\"heatmapgl\":[{\"type\":\"heatmapgl\",\"colorbar\":{\"outlinewidth\":0,\"ticks\":\"\"},\"colorscale\":[[0.0,\"#0d0887\"],[0.1111111111111111,\"#46039f\"],[0.2222222222222222,\"#7201a8\"],[0.3333333333333333,\"#9c179e\"],[0.4444444444444444,\"#bd3786\"],[0.5555555555555556,\"#d8576b\"],[0.6666666666666666,\"#ed7953\"],[0.7777777777777778,\"#fb9f3a\"],[0.8888888888888888,\"#fdca26\"],[1.0,\"#f0f921\"]]}],\"contourcarpet\":[{\"type\":\"contourcarpet\",\"colorbar\":{\"outlinewidth\":0,\"ticks\":\"\"}}],\"contour\":[{\"type\":\"contour\",\"colorbar\":{\"outlinewidth\":0,\"ticks\":\"\"},\"colorscale\":[[0.0,\"#0d0887\"],[0.1111111111111111,\"#46039f\"],[0.2222222222222222,\"#7201a8\"],[0.3333333333333333,\"#9c179e\"],[0.4444444444444444,\"#bd3786\"],[0.5555555555555556,\"#d8576b\"],[0.6666666666666666,\"#ed7953\"],[0.7777777777777778,\"#fb9f3a\"],[0.8888888888888888,\"#fdca26\"],[1.0,\"#f0f921\"]]}],\"surface\":[{\"type\":\"surface\",\"colorbar\":{\"outlinewidth\":0,\"ticks\":\"\"},\"colorscale\":[[0.0,\"#0d0887\"],[0.1111111111111111,\"#46039f\"],[0.2222222222222222,\"#7201a8\"],[0.3333333333333333,\"#9c179e\"],[0.4444444444444444,\"#bd3786\"],[0.5555555555555556,\"#d8576b\"],[0.6666666666666666,\"#ed7953\"],[0.7777777777777778,\"#fb9f3a\"],[0.8888888888888888,\"#fdca26\"],[1.0,\"#f0f921\"]]}],\"mesh3d\":[{\"type\":\"mesh3d\",\"colorbar\":{\"outlinewidth\":0,\"ticks\":\"\"}}],\"scatter\":[{\"fillpattern\":{\"fillmode\":\"overlay\",\"size\":10,\"solidity\":0.2},\"type\":\"scatter\"}],\"parcoords\":[{\"type\":\"parcoords\",\"line\":{\"colorbar\":{\"outlinewidth\":0,\"ticks\":\"\"}}}],\"scatterpolargl\":[{\"type\":\"scatterpolargl\",\"marker\":{\"colorbar\":{\"outlinewidth\":0,\"ticks\":\"\"}}}],\"bar\":[{\"error_x\":{\"color\":\"#2a3f5f\"},\"error_y\":{\"color\":\"#2a3f5f\"},\"marker\":{\"line\":{\"color\":\"#E5ECF6\",\"width\":0.5},\"pattern\":{\"fillmode\":\"overlay\",\"size\":10,\"solidity\":0.2}},\"type\":\"bar\"}],\"scattergeo\":[{\"type\":\"scattergeo\",\"marker\":{\"colorbar\":{\"outlinewidth\":0,\"ticks\":\"\"}}}],\"scatterpolar\":[{\"type\":\"scatterpolar\",\"marker\":{\"colorbar\":{\"outlinewidth\":0,\"ticks\":\"\"}}}],\"histogram\":[{\"marker\":{\"pattern\":{\"fillmode\":\"overlay\",\"size\":10,\"solidity\":0.2}},\"type\":\"histogram\"}],\"scattergl\":[{\"type\":\"scattergl\",\"marker\":{\"colorbar\":{\"outlinewidth\":0,\"ticks\":\"\"}}}],\"scatter3d\":[{\"type\":\"scatter3d\",\"line\":{\"colorbar\":{\"outlinewidth\":0,\"ticks\":\"\"}},\"marker\":{\"colorbar\":{\"outlinewidth\":0,\"ticks\":\"\"}}}],\"scattermapbox\":[{\"type\":\"scattermapbox\",\"marker\":{\"colorbar\":{\"outlinewidth\":0,\"ticks\":\"\"}}}],\"scatterternary\":[{\"type\":\"scatterternary\",\"marker\":{\"colorbar\":{\"outlinewidth\":0,\"ticks\":\"\"}}}],\"scattercarpet\":[{\"type\":\"scattercarpet\",\"marker\":{\"colorbar\":{\"outlinewidth\":0,\"ticks\":\"\"}}}],\"carpet\":[{\"aaxis\":{\"endlinecolor\":\"#2a3f5f\",\"gridcolor\":\"white\",\"linecolor\":\"white\",\"minorgridcolor\":\"white\",\"startlinecolor\":\"#2a3f5f\"},\"baxis\":{\"endlinecolor\":\"#2a3f5f\",\"gridcolor\":\"white\",\"linecolor\":\"white\",\"minorgridcolor\":\"white\",\"startlinecolor\":\"#2a3f5f\"},\"type\":\"carpet\"}],\"table\":[{\"cells\":{\"fill\":{\"color\":\"#EBF0F8\"},\"line\":{\"color\":\"white\"}},\"header\":{\"fill\":{\"color\":\"#C8D4E3\"},\"line\":{\"color\":\"white\"}},\"type\":\"table\"}],\"barpolar\":[{\"marker\":{\"line\":{\"color\":\"#E5ECF6\",\"width\":0.5},\"pattern\":{\"fillmode\":\"overlay\",\"size\":10,\"solidity\":0.2}},\"type\":\"barpolar\"}],\"pie\":[{\"automargin\":true,\"type\":\"pie\"}]},\"layout\":{\"autotypenumbers\":\"strict\",\"colorway\":[\"#636efa\",\"#EF553B\",\"#00cc96\",\"#ab63fa\",\"#FFA15A\",\"#19d3f3\",\"#FF6692\",\"#B6E880\",\"#FF97FF\",\"#FECB52\"],\"font\":{\"color\":\"#2a3f5f\"},\"hovermode\":\"closest\",\"hoverlabel\":{\"align\":\"left\"},\"paper_bgcolor\":\"white\",\"plot_bgcolor\":\"#E5ECF6\",\"polar\":{\"bgcolor\":\"#E5ECF6\",\"angularaxis\":{\"gridcolor\":\"white\",\"linecolor\":\"white\",\"ticks\":\"\"},\"radialaxis\":{\"gridcolor\":\"white\",\"linecolor\":\"white\",\"ticks\":\"\"}},\"ternary\":{\"bgcolor\":\"#E5ECF6\",\"aaxis\":{\"gridcolor\":\"white\",\"linecolor\":\"white\",\"ticks\":\"\"},\"baxis\":{\"gridcolor\":\"white\",\"linecolor\":\"white\",\"ticks\":\"\"},\"caxis\":{\"gridcolor\":\"white\",\"linecolor\":\"white\",\"ticks\":\"\"}},\"coloraxis\":{\"colorbar\":{\"outlinewidth\":0,\"ticks\":\"\"}},\"colorscale\":{\"sequential\":[[0.0,\"#0d0887\"],[0.1111111111111111,\"#46039f\"],[0.2222222222222222,\"#7201a8\"],[0.3333333333333333,\"#9c179e\"],[0.4444444444444444,\"#bd3786\"],[0.5555555555555556,\"#d8576b\"],[0.6666666666666666,\"#ed7953\"],[0.7777777777777778,\"#fb9f3a\"],[0.8888888888888888,\"#fdca26\"],[1.0,\"#f0f921\"]],\"sequentialminus\":[[0.0,\"#0d0887\"],[0.1111111111111111,\"#46039f\"],[0.2222222222222222,\"#7201a8\"],[0.3333333333333333,\"#9c179e\"],[0.4444444444444444,\"#bd3786\"],[0.5555555555555556,\"#d8576b\"],[0.6666666666666666,\"#ed7953\"],[0.7777777777777778,\"#fb9f3a\"],[0.8888888888888888,\"#fdca26\"],[1.0,\"#f0f921\"]],\"diverging\":[[0,\"#8e0152\"],[0.1,\"#c51b7d\"],[0.2,\"#de77ae\"],[0.3,\"#f1b6da\"],[0.4,\"#fde0ef\"],[0.5,\"#f7f7f7\"],[0.6,\"#e6f5d0\"],[0.7,\"#b8e186\"],[0.8,\"#7fbc41\"],[0.9,\"#4d9221\"],[1,\"#276419\"]]},\"xaxis\":{\"gridcolor\":\"white\",\"linecolor\":\"white\",\"ticks\":\"\",\"title\":{\"standoff\":15},\"zerolinecolor\":\"white\",\"automargin\":true,\"zerolinewidth\":2},\"yaxis\":{\"gridcolor\":\"white\",\"linecolor\":\"white\",\"ticks\":\"\",\"title\":{\"standoff\":15},\"zerolinecolor\":\"white\",\"automargin\":true,\"zerolinewidth\":2},\"scene\":{\"xaxis\":{\"backgroundcolor\":\"#E5ECF6\",\"gridcolor\":\"white\",\"linecolor\":\"white\",\"showbackground\":true,\"ticks\":\"\",\"zerolinecolor\":\"white\",\"gridwidth\":2},\"yaxis\":{\"backgroundcolor\":\"#E5ECF6\",\"gridcolor\":\"white\",\"linecolor\":\"white\",\"showbackground\":true,\"ticks\":\"\",\"zerolinecolor\":\"white\",\"gridwidth\":2},\"zaxis\":{\"backgroundcolor\":\"#E5ECF6\",\"gridcolor\":\"white\",\"linecolor\":\"white\",\"showbackground\":true,\"ticks\":\"\",\"zerolinecolor\":\"white\",\"gridwidth\":2}},\"shapedefaults\":{\"line\":{\"color\":\"#2a3f5f\"}},\"annotationdefaults\":{\"arrowcolor\":\"#2a3f5f\",\"arrowhead\":0,\"arrowwidth\":1},\"geo\":{\"bgcolor\":\"white\",\"landcolor\":\"#E5ECF6\",\"subunitcolor\":\"white\",\"showland\":true,\"showlakes\":true,\"lakecolor\":\"white\"},\"title\":{\"x\":0.05},\"mapbox\":{\"style\":\"light\"}}},\"xaxis\":{\"anchor\":\"y\",\"domain\":[0.0,1.0],\"title\":{\"text\":\"Fruits\"}},\"yaxis\":{\"anchor\":\"x\",\"domain\":[0.0,1.0],\"title\":{\"text\":\"Quantity\"}},\"legend\":{\"tracegroupgap\":0},\"title\":{\"text\":\"Fruit Quantity Bar Plot\"},\"barmode\":\"relative\"},                        {\"responsive\": true}                    ).then(function(){\n",
              "                            \n",
              "var gd = document.getElementById('6f2f6649-52a5-4f45-8ef7-9a66cd3b678c');\n",
              "var x = new MutationObserver(function (mutations, observer) {{\n",
              "        var display = window.getComputedStyle(gd).display;\n",
              "        if (!display || display === 'none') {{\n",
              "            console.log([gd, 'removed!']);\n",
              "            Plotly.purge(gd);\n",
              "            observer.disconnect();\n",
              "        }}\n",
              "}});\n",
              "\n",
              "// Listen for the removal of the full notebook cells\n",
              "var notebookContainer = gd.closest('#notebook-container');\n",
              "if (notebookContainer) {{\n",
              "    x.observe(notebookContainer, {childList: true});\n",
              "}}\n",
              "\n",
              "// Listen for the clearing of the current output cell\n",
              "var outputEl = gd.closest('.output');\n",
              "if (outputEl) {{\n",
              "    x.observe(outputEl, {childList: true});\n",
              "}}\n",
              "\n",
              "                        })                };                            </script>        </div>\n",
              "</body>\n",
              "</html>"
            ]
          },
          "metadata": {}
        }
      ]
    },
    {
      "cell_type": "code",
      "source": [
        "#6. Create a DataFrame and add a new column based on an existing column.\n",
        "import pandas as pd\n",
        "data = {\n",
        "    'Name': ['Alice', 'Bob', 'Charlie', 'David'],\n",
        "    'Marks': [85, 90, 78, 92]\n",
        "}\n",
        "df = pd.DataFrame(data)\n",
        "df['Grade'] = ['A' if marks >= 90 else 'B' if marks >= 80 else 'C' for marks in df['Marks']]\n",
        "print(df)"
      ],
      "metadata": {
        "colab": {
          "base_uri": "https://localhost:8080/"
        },
        "id": "t6jfij9kBwGS",
        "outputId": "6fa8c920-b602-4ca7-ad0d-06ee9e5ac47e"
      },
      "execution_count": 7,
      "outputs": [
        {
          "output_type": "stream",
          "name": "stdout",
          "text": [
            "      Name  Marks Grade\n",
            "0    Alice     85     B\n",
            "1      Bob     90     A\n",
            "2  Charlie     78     C\n",
            "3    David     92     A\n"
          ]
        }
      ]
    },
    {
      "cell_type": "code",
      "source": [
        "#7. Write a program to perform element-wise multiplication of two NumPy arrays.\n",
        "import numpy as np\n",
        "arr1 = np.array([1, 2, 3, 4, 5])\n",
        "arr2 = np.array([10, 20, 30, 40, 50])\n",
        "result = arr1 * arr2   # or np.multiply(arr1, arr2)\n",
        "print(\"Array 1:\", arr1)\n",
        "print(\"Array 2:\", arr2)\n",
        "print(\"Element-wise multiplication result:\", result)"
      ],
      "metadata": {
        "colab": {
          "base_uri": "https://localhost:8080/"
        },
        "id": "pLOb4qpOBwDs",
        "outputId": "83dddb1a-8c51-4c83-aef2-921102c871b3"
      },
      "execution_count": 8,
      "outputs": [
        {
          "output_type": "stream",
          "name": "stdout",
          "text": [
            "Array 1: [1 2 3 4 5]\n",
            "Array 2: [10 20 30 40 50]\n",
            "Element-wise multiplication result: [ 10  40  90 160 250]\n"
          ]
        }
      ]
    },
    {
      "cell_type": "code",
      "source": [
        "#8. Create a line plot with multiple lines using Matplotlib.\n",
        "import matplotlib.pyplot as plt\n",
        "x = [1, 2, 3, 4, 5]\n",
        "y1 = [2, 4, 6, 8, 10]     # Line 1\n",
        "y2 = [1, 3, 5, 7, 9]      # Line 2\n",
        "y3 = [2, 3, 4, 5, 6]      # Line 3\n",
        "plt.plot(x, y1, label=\"Line 1\", marker='o')\n",
        "plt.plot(x, y2, label=\"Line 2\", marker='s')\n",
        "plt.plot(x, y3, label=\"Line 3\", marker='^')\n",
        "plt.xlabel(\"X-axis\")\n",
        "plt.ylabel(\"Y-axis\")\n",
        "plt.title(\"Line Plot with Multiple Lines\")\n",
        "plt.legend()\n",
        "plt.show()"
      ],
      "metadata": {
        "colab": {
          "base_uri": "https://localhost:8080/",
          "height": 472
        },
        "id": "6WAaAY7rBv8_",
        "outputId": "ff6c431f-ce9d-40df-ac43-e845d15944a5"
      },
      "execution_count": 9,
      "outputs": [
        {
          "output_type": "display_data",
          "data": {
            "text/plain": [
              "<Figure size 640x480 with 1 Axes>"
            ],
            "image/png": "[encoded data removed]"
          },
          "metadata": {}
        }
      ]
    },
    {
      "cell_type": "code",
      "source": [
        "#9. Generate a Pandas DataFrame and filter rows where a column value is greater than a threshold.\n",
        "import pandas as pd\n",
        "data = {\n",
        "    'Name': ['Alice', 'Bob', 'Charlie', 'David'],\n",
        "    'Marks': [85, 90, 78, 92],\n",
        "    'Age': [20, 21, 19, 22]\n",
        "}\n",
        "df = pd.DataFrame(data)\n",
        "filtered_df = df[df['Marks'] > 85]\n",
        "print(\"Original DataFrame:\")\n",
        "print(df)\n",
        "print(\"\\nFiltered DataFrame (Marks > 85):\")\n",
        "print(filtered_df)"
      ],
      "metadata": {
        "colab": {
          "base_uri": "https://localhost:8080/"
        },
        "id": "795ijgXtBv1q",
        "outputId": "b058170b-f7b4-4c40-eac7-d141b0a695bf"
      },
      "execution_count": 10,
      "outputs": [
        {
          "output_type": "stream",
          "name": "stdout",
          "text": [
            "Original DataFrame:\n",
            "      Name  Marks  Age\n",
            "0    Alice     85   20\n",
            "1      Bob     90   21\n",
            "2  Charlie     78   19\n",
            "3    David     92   22\n",
            "\n",
            "Filtered DataFrame (Marks > 85):\n",
            "    Name  Marks  Age\n",
            "1    Bob     90   21\n",
            "3  David     92   22\n"
          ]
        }
      ]
    },
    {
      "cell_type": "code",
      "source": [
        "#10. Create a histogram using Seaborn to visualize a distribution.\n",
        "import seaborn as sns\n",
        "import matplotlib.pyplot as plt\n",
        "ages = [18, 20, 21, 22, 22, 23, 24, 24, 25, 26, 27, 28, 28, 29, 30]\n",
        "sns.histplot(ages, bins=6, kde=True, color='skyblue')\n",
        "plt.title(\"Age Distribution Histogram\")\n",
        "plt.xlabel(\"Age\")\n",
        "plt.ylabel(\"Count\")\n",
        "plt.show()"
      ],
      "metadata": {
        "colab": {
          "base_uri": "https://localhost:8080/",
          "height": 472
        },
        "id": "oGXXsdYoG8rH",
        "outputId": "b5bb139e-9916-46a0-825f-267d15be7795"
      },
      "execution_count": 11,
      "outputs": [
        {
          "output_type": "display_data",
          "data": {
            "text/plain": [
              "<Figure size 640x480 with 1 Axes>"
            ],
            "image/png": "[encoded data removed]"
          },
          "metadata": {}
        }
      ]
    },
    {
      "cell_type": "code",
      "source": [
        "#11. Perform matrix multiplication using NumPy.\n",
        "import numpy as np\n",
        "A = np.array([[1, 2],\n",
        "              [3, 4]])\n",
        "B = np.array([[5, 6],\n",
        "              [7, 8]])\n",
        "result = np.dot(A, B)\n",
        "print(\"Matrix A:\")\n",
        "print(A)\n",
        "print(\"\\nMatrix B:\")\n",
        "print(B)\n",
        "print(\"\\nMatrix Multiplication Result (A x B):\")\n",
        "print(result)"
      ],
      "metadata": {
        "colab": {
          "base_uri": "https://localhost:8080/"
        },
        "id": "SLyy55oqG8eZ",
        "outputId": "dad230de-df17-4e35-9a74-03c1a5a30363"
      },
      "execution_count": 12,
      "outputs": [
        {
          "output_type": "stream",
          "name": "stdout",
          "text": [
            "Matrix A:\n",
            "[[1 2]\n",
            " [3 4]]\n",
            "\n",
            "Matrix B:\n",
            "[[5 6]\n",
            " [7 8]]\n",
            "\n",
            "Matrix Multiplication Result (A x B):\n",
            "[[19 22]\n",
            " [43 50]]\n"
          ]
        }
      ]
    },
    {
      "cell_type": "code",
      "source": [
        "#12. Use Pandas to load a CSV file and display its first 5 rows.\n",
        "import pandas as pd\n",
        "data = {\n",
        "    'Name': ['Alice', 'Bob', 'Charlie', 'David', 'Eva'],\n",
        "    'Age': [20, 21, 19, 22, 20],\n",
        "    'Marks': [85, 90, 78, 92, 88]\n",
        "}\n",
        "df = pd.DataFrame(data)\n",
        "df.to_csv(\"sample_data.csv\", index=False)\n",
        "df_loaded = pd.read_csv(\"sample_data.csv\")\n",
        "print(\"First 5 rows of the DataFrame:\")\n",
        "print(df_loaded.head())"
      ],
      "metadata": {
        "colab": {
          "base_uri": "https://localhost:8080/"
        },
        "id": "lQSILHKRHFpE",
        "outputId": "3e6f4ef8-e90a-4b76-a7f9-e96110d63b60"
      },
      "execution_count": 17,
      "outputs": [
        {
          "output_type": "stream",
          "name": "stdout",
          "text": [
            "First 5 rows of the DataFrame:\n",
            "      Name  Age  Marks\n",
            "0    Alice   20     85\n",
            "1      Bob   21     90\n",
            "2  Charlie   19     78\n",
            "3    David   22     92\n",
            "4      Eva   20     88\n"
          ]
        }
      ]
    },
    {
      "cell_type": "code",
      "source": [
        "#13. Create a 3D scatter plot using Plotly.\n",
        "import plotly.express as px\n",
        "data = {\n",
        "    \"X\": [1, 2, 3, 4, 5],\n",
        "    \"Y\": [10, 15, 13, 17, 20],\n",
        "    \"Z\": [5, 7, 6, 8, 10]\n",
        "}\n",
        "fig = px.scatter_3d(data, x=\"X\", y=\"Y\", z=\"Z\",\n",
        "                    color=\"Z\", size=\"Y\",\n",
        "                    title=\"3D Scatter Plot Example\")\n",
        "fig.show()\n"
      ],
      "metadata": {
        "colab": {
          "base_uri": "https://localhost:8080/",
          "height": 542
        },
        "id": "h18duGv3HFlw",
        "outputId": "d1ad7464-2e4e-4556-c139-79bc27f5ced1"
      },
      "execution_count": 15,
      "outputs": [
        {
          "output_type": "display_data",
          "data": {
            "text/html": [
              "<html>\n",
              "<head><meta charset=\"utf-8\" /></head>\n",
              "<body>\n",
              "    <div>            <script src=\"https://cdnjs.cloudflare.com/ajax/libs/mathjax/2.7.5/MathJax.js?config=TeX-AMS-MML_SVG\"></script><script type=\"text/javascript\">if (window.MathJax && window.MathJax.Hub && window.MathJax.Hub.Config) {window.MathJax.Hub.Config({SVG: {font: \"STIX-Web\"}});}</script>                <script type=\"text/javascript\">window.PlotlyConfig = {MathJaxConfig: 'local'};</script>\n",
              "        <script charset=\"utf-8\" src=\"https://cdn.plot.ly/plotly-2.35.2.min.js\"></script>                <div id=\"4c004775-84fd-4137-82bc-d4ca5d9b3736\" class=\"plotly-graph-div\" style=\"height:525px; width:100%;\"></div>            <script type=\"text/javascript\">                                    window.PLOTLYENV=window.PLOTLYENV || {};                                    if (document.getElementById(\"4c004775-84fd-4137-82bc-d4ca5d9b3736\")) {                    Plotly.newPlot(                        \"4c004775-84fd-4137-82bc-d4ca5d9b3736\",                        [{\"hovertemplate\":\"X=%{x}\\u003cbr\\u003eY=%{marker.size}\\u003cbr\\u003eZ=%{marker.color}\\u003cextra\\u003e\\u003c\\u002fextra\\u003e\",\"legendgroup\":\"\",\"marker\":{\"color\":[5,7,6,8,10],\"coloraxis\":\"coloraxis\",\"size\":[10,15,13,17,20],\"sizemode\":\"area\",\"sizeref\":0.05,\"symbol\":\"circle\"},\"mode\":\"markers\",\"name\":\"\",\"scene\":\"scene\",\"showlegend\":false,\"x\":[1,2,3,4,5],\"y\":[10,15,13,17,20],\"z\":[5,7,6,8,10],\"type\":\"scatter3d\"}],                        {\"template\":{\"data\":{\"histogram2dcontour\":[{\"type\":\"histogram2dcontour\",\"colorbar\":{\"outlinewidth\":0,\"ticks\":\"\"},\"colorscale\":[[0.0,\"#0d0887\"],[0.1111111111111111,\"#46039f\"],[0.2222222222222222,\"#7201a8\"],[0.3333333333333333,\"#9c179e\"],[0.4444444444444444,\"#bd3786\"],[0.5555555555555556,\"#d8576b\"],[0.6666666666666666,\"#ed7953\"],[0.7777777777777778,\"#fb9f3a\"],[0.8888888888888888,\"#fdca26\"],[1.0,\"#f0f921\"]]}],\"choropleth\":[{\"type\":\"choropleth\",\"colorbar\":{\"outlinewidth\":0,\"ticks\":\"\"}}],\"histogram2d\":[{\"type\":\"histogram2d\",\"colorbar\":{\"outlinewidth\":0,\"ticks\":\"\"},\"colorscale\":[[0.0,\"#0d0887\"],[0.1111111111111111,\"#46039f\"],[0.2222222222222222,\"#7201a8\"],[0.3333333333333333,\"#9c179e\"],[0.4444444444444444,\"#bd3786\"],[0.5555555555555556,\"#d8576b\"],[0.6666666666666666,\"#ed7953\"],[0.7777777777777778,\"#fb9f3a\"],[0.8888888888888888,\"#fdca26\"],[1.0,\"#f0f921\"]]}],\"heatmap\":[{\"type\":\"heatmap\",\"colorbar\":{\"outlinewidth\":0,\"ticks\":\"\"},\"colorscale\":[[0.0,\"#0d0887\"],[0.1111111111111111,\"#46039f\"],[0.2222222222222222,\"#7201a8\"],[0.3333333333333333,\"#9c179e\"],[0.4444444444444444,\"#bd3786\"],[0.5555555555555556,\"#d8576b\"],[0.6666666666666666,\"#ed7953\"],[0.7777777777777778,\"#fb9f3a\"],[0.8888888888888888,\"#fdca26\"],[1.0,\"#f0f921\"]]}],\"heatmapgl\":[{\"type\":\"heatmapgl\",\"colorbar\":{\"outlinewidth\":0,\"ticks\":\"\"},\"colorscale\":[[0.0,\"#0d0887\"],[0.1111111111111111,\"#46039f\"],[0.2222222222222222,\"#7201a8\"],[0.3333333333333333,\"#9c179e\"],[0.4444444444444444,\"#bd3786\"],[0.5555555555555556,\"#d8576b\"],[0.6666666666666666,\"#ed7953\"],[0.7777777777777778,\"#fb9f3a\"],[0.8888888888888888,\"#fdca26\"],[1.0,\"#f0f921\"]]}],\"contourcarpet\":[{\"type\":\"contourcarpet\",\"colorbar\":{\"outlinewidth\":0,\"ticks\":\"\"}}],\"contour\":[{\"type\":\"contour\",\"colorbar\":{\"outlinewidth\":0,\"ticks\":\"\"},\"colorscale\":[[0.0,\"#0d0887\"],[0.1111111111111111,\"#46039f\"],[0.2222222222222222,\"#7201a8\"],[0.3333333333333333,\"#9c179e\"],[0.4444444444444444,\"#bd3786\"],[0.5555555555555556,\"#d8576b\"],[0.6666666666666666,\"#ed7953\"],[0.7777777777777778,\"#fb9f3a\"],[0.8888888888888888,\"#fdca26\"],[1.0,\"#f0f921\"]]}],\"surface\":[{\"type\":\"surface\",\"colorbar\":{\"outlinewidth\":0,\"ticks\":\"\"},\"colorscale\":[[0.0,\"#0d0887\"],[0.1111111111111111,\"#46039f\"],[0.2222222222222222,\"#7201a8\"],[0.3333333333333333,\"#9c179e\"],[0.4444444444444444,\"#bd3786\"],[0.5555555555555556,\"#d8576b\"],[0.6666666666666666,\"#ed7953\"],[0.7777777777777778,\"#fb9f3a\"],[0.8888888888888888,\"#fdca26\"],[1.0,\"#f0f921\"]]}],\"mesh3d\":[{\"type\":\"mesh3d\",\"colorbar\":{\"outlinewidth\":0,\"ticks\":\"\"}}],\"scatter\":[{\"fillpattern\":{\"fillmode\":\"overlay\",\"size\":10,\"solidity\":0.2},\"type\":\"scatter\"}],\"parcoords\":[{\"type\":\"parcoords\",\"line\":{\"colorbar\":{\"outlinewidth\":0,\"ticks\":\"\"}}}],\"scatterpolargl\":[{\"type\":\"scatterpolargl\",\"marker\":{\"colorbar\":{\"outlinewidth\":0,\"ticks\":\"\"}}}],\"bar\":[{\"error_x\":{\"color\":\"#2a3f5f\"},\"error_y\":{\"color\":\"#2a3f5f\"},\"marker\":{\"line\":{\"color\":\"#E5ECF6\",\"width\":0.5},\"pattern\":{\"fillmode\":\"overlay\",\"size\":10,\"solidity\":0.2}},\"type\":\"bar\"}],\"scattergeo\":[{\"type\":\"scattergeo\",\"marker\":{\"colorbar\":{\"outlinewidth\":0,\"ticks\":\"\"}}}],\"scatterpolar\":[{\"type\":\"scatterpolar\",\"marker\":{\"colorbar\":{\"outlinewidth\":0,\"ticks\":\"\"}}}],\"histogram\":[{\"marker\":{\"pattern\":{\"fillmode\":\"overlay\",\"size\":10,\"solidity\":0.2}},\"type\":\"histogram\"}],\"scattergl\":[{\"type\":\"scattergl\",\"marker\":{\"colorbar\":{\"outlinewidth\":0,\"ticks\":\"\"}}}],\"scatter3d\":[{\"type\":\"scatter3d\",\"line\":{\"colorbar\":{\"outlinewidth\":0,\"ticks\":\"\"}},\"marker\":{\"colorbar\":{\"outlinewidth\":0,\"ticks\":\"\"}}}],\"scattermapbox\":[{\"type\":\"scattermapbox\",\"marker\":{\"colorbar\":{\"outlinewidth\":0,\"ticks\":\"\"}}}],\"scatterternary\":[{\"type\":\"scatterternary\",\"marker\":{\"colorbar\":{\"outlinewidth\":0,\"ticks\":\"\"}}}],\"scattercarpet\":[{\"type\":\"scattercarpet\",\"marker\":{\"colorbar\":{\"outlinewidth\":0,\"ticks\":\"\"}}}],\"carpet\":[{\"aaxis\":{\"endlinecolor\":\"#2a3f5f\",\"gridcolor\":\"white\",\"linecolor\":\"white\",\"minorgridcolor\":\"white\",\"startlinecolor\":\"#2a3f5f\"},\"baxis\":{\"endlinecolor\":\"#2a3f5f\",\"gridcolor\":\"white\",\"linecolor\":\"white\",\"minorgridcolor\":\"white\",\"startlinecolor\":\"#2a3f5f\"},\"type\":\"carpet\"}],\"table\":[{\"cells\":{\"fill\":{\"color\":\"#EBF0F8\"},\"line\":{\"color\":\"white\"}},\"header\":{\"fill\":{\"color\":\"#C8D4E3\"},\"line\":{\"color\":\"white\"}},\"type\":\"table\"}],\"barpolar\":[{\"marker\":{\"line\":{\"color\":\"#E5ECF6\",\"width\":0.5},\"pattern\":{\"fillmode\":\"overlay\",\"size\":10,\"solidity\":0.2}},\"type\":\"barpolar\"}],\"pie\":[{\"automargin\":true,\"type\":\"pie\"}]},\"layout\":{\"autotypenumbers\":\"strict\",\"colorway\":[\"#636efa\",\"#EF553B\",\"#00cc96\",\"#ab63fa\",\"#FFA15A\",\"#19d3f3\",\"#FF6692\",\"#B6E880\",\"#FF97FF\",\"#FECB52\"],\"font\":{\"color\":\"#2a3f5f\"},\"hovermode\":\"closest\",\"hoverlabel\":{\"align\":\"left\"},\"paper_bgcolor\":\"white\",\"plot_bgcolor\":\"#E5ECF6\",\"polar\":{\"bgcolor\":\"#E5ECF6\",\"angularaxis\":{\"gridcolor\":\"white\",\"linecolor\":\"white\",\"ticks\":\"\"},\"radialaxis\":{\"gridcolor\":\"white\",\"linecolor\":\"white\",\"ticks\":\"\"}},\"ternary\":{\"bgcolor\":\"#E5ECF6\",\"aaxis\":{\"gridcolor\":\"white\",\"linecolor\":\"white\",\"ticks\":\"\"},\"baxis\":{\"gridcolor\":\"white\",\"linecolor\":\"white\",\"ticks\":\"\"},\"caxis\":{\"gridcolor\":\"white\",\"linecolor\":\"white\",\"ticks\":\"\"}},\"coloraxis\":{\"colorbar\":{\"outlinewidth\":0,\"ticks\":\"\"}},\"colorscale\":{\"sequential\":[[0.0,\"#0d0887\"],[0.1111111111111111,\"#46039f\"],[0.2222222222222222,\"#7201a8\"],[0.3333333333333333,\"#9c179e\"],[0.4444444444444444,\"#bd3786\"],[0.5555555555555556,\"#d8576b\"],[0.6666666666666666,\"#ed7953\"],[0.7777777777777778,\"#fb9f3a\"],[0.8888888888888888,\"#fdca26\"],[1.0,\"#f0f921\"]],\"sequentialminus\":[[0.0,\"#0d0887\"],[0.1111111111111111,\"#46039f\"],[0.2222222222222222,\"#7201a8\"],[0.3333333333333333,\"#9c179e\"],[0.4444444444444444,\"#bd3786\"],[0.5555555555555556,\"#d8576b\"],[0.6666666666666666,\"#ed7953\"],[0.7777777777777778,\"#fb9f3a\"],[0.8888888888888888,\"#fdca26\"],[1.0,\"#f0f921\"]],\"diverging\":[[0,\"#8e0152\"],[0.1,\"#c51b7d\"],[0.2,\"#de77ae\"],[0.3,\"#f1b6da\"],[0.4,\"#fde0ef\"],[0.5,\"#f7f7f7\"],[0.6,\"#e6f5d0\"],[0.7,\"#b8e186\"],[0.8,\"#7fbc41\"],[0.9,\"#4d9221\"],[1,\"#276419\"]]},\"xaxis\":{\"gridcolor\":\"white\",\"linecolor\":\"white\",\"ticks\":\"\",\"title\":{\"standoff\":15},\"zerolinecolor\":\"white\",\"automargin\":true,\"zerolinewidth\":2},\"yaxis\":{\"gridcolor\":\"white\",\"linecolor\":\"white\",\"ticks\":\"\",\"title\":{\"standoff\":15},\"zerolinecolor\":\"white\",\"automargin\":true,\"zerolinewidth\":2},\"scene\":{\"xaxis\":{\"backgroundcolor\":\"#E5ECF6\",\"gridcolor\":\"white\",\"linecolor\":\"white\",\"showbackground\":true,\"ticks\":\"\",\"zerolinecolor\":\"white\",\"gridwidth\":2},\"yaxis\":{\"backgroundcolor\":\"#E5ECF6\",\"gridcolor\":\"white\",\"linecolor\":\"white\",\"showbackground\":true,\"ticks\":\"\",\"zerolinecolor\":\"white\",\"gridwidth\":2},\"zaxis\":{\"backgroundcolor\":\"#E5ECF6\",\"gridcolor\":\"white\",\"linecolor\":\"white\",\"showbackground\":true,\"ticks\":\"\",\"zerolinecolor\":\"white\",\"gridwidth\":2}},\"shapedefaults\":{\"line\":{\"color\":\"#2a3f5f\"}},\"annotationdefaults\":{\"arrowcolor\":\"#2a3f5f\",\"arrowhead\":0,\"arrowwidth\":1},\"geo\":{\"bgcolor\":\"white\",\"landcolor\":\"#E5ECF6\",\"subunitcolor\":\"white\",\"showland\":true,\"showlakes\":true,\"lakecolor\":\"white\"},\"title\":{\"x\":0.05},\"mapbox\":{\"style\":\"light\"}}},\"scene\":{\"domain\":{\"x\":[0.0,1.0],\"y\":[0.0,1.0]},\"xaxis\":{\"title\":{\"text\":\"X\"}},\"yaxis\":{\"title\":{\"text\":\"Y\"}},\"zaxis\":{\"title\":{\"text\":\"Z\"}}},\"coloraxis\":{\"colorbar\":{\"title\":{\"text\":\"Z\"}},\"colorscale\":[[0.0,\"#0d0887\"],[0.1111111111111111,\"#46039f\"],[0.2222222222222222,\"#7201a8\"],[0.3333333333333333,\"#9c179e\"],[0.4444444444444444,\"#bd3786\"],[0.5555555555555556,\"#d8576b\"],[0.6666666666666666,\"#ed7953\"],[0.7777777777777778,\"#fb9f3a\"],[0.8888888888888888,\"#fdca26\"],[1.0,\"#f0f921\"]]},\"legend\":{\"tracegroupgap\":0,\"itemsizing\":\"constant\"},\"title\":{\"text\":\"3D Scatter Plot Example\"}},                        {\"responsive\": true}                    ).then(function(){\n",
              "                            \n",
              "var gd = document.getElementById('4c004775-84fd-4137-82bc-d4ca5d9b3736');\n",
              "var x = new MutationObserver(function (mutations, observer) {{\n",
              "        var display = window.getComputedStyle(gd).display;\n",
              "        if (!display || display === 'none') {{\n",
              "            console.log([gd, 'removed!']);\n",
              "            Plotly.purge(gd);\n",
              "            observer.disconnect();\n",
              "        }}\n",
              "}});\n",
              "\n",
              "// Listen for the removal of the full notebook cells\n",
              "var notebookContainer = gd.closest('#notebook-container');\n",
              "if (notebookContainer) {{\n",
              "    x.observe(notebookContainer, {childList: true});\n",
              "}}\n",
              "\n",
              "// Listen for the clearing of the current output cell\n",
              "var outputEl = gd.closest('.output');\n",
              "if (outputEl) {{\n",
              "    x.observe(outputEl, {childList: true});\n",
              "}}\n",
              "\n",
              "                        })                };                            </script>        </div>\n",
              "</body>\n",
              "</html>"
            ]
          },
          "metadata": {}
        }
      ]
    }
  ]
}